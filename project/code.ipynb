{
  "nbformat": 4,
  "nbformat_minor": 0,
  "metadata": {
    "colab": {
      "provenance": [],
      "gpuType": "T4"
    },
    "kernelspec": {
      "name": "python3",
      "display_name": "Python 3"
    },
    "language_info": {
      "name": "python"
    },
    "accelerator": "GPU"
  },
  "cells": [
    {
      "cell_type": "markdown",
      "source": [
        "\n",
        " Sequential <br>\n",
        " OPENcv <br>\n",
        " Parallel cuda\n",
        "<br>\n",
        "versions of four image filtering and editing operations <br>\n",
        "1. Negative image\n",
        "2. Blur image\n",
        "3. Mirror image\n",
        "4. Square blur image\n",
        "\n",
        "\n",
        "\n"
      ],
      "metadata": {
        "id": "W3v-VLF84ptg"
      }
    },
    {
      "cell_type": "markdown",
      "source": [
        "### sequential negative"
      ],
      "metadata": {
        "id": "FYljdK424xdP"
      }
    },
    {
      "cell_type": "code",
      "source": [
        "%%writefile seq_neg.cpp\n",
        "#include <iostream>\n",
        "#include <opencv2/opencv.hpp>\n",
        "#include <sys/time.h>\n",
        "\n",
        "using namespace cv;\n",
        "\n",
        "void negativeImageSequential(const Mat& inputImage, Mat& outputImage) {\n",
        "    int width = inputImage.cols;\n",
        "    int height = inputImage.rows;\n",
        "    int channels = inputImage.channels();\n",
        "\n",
        "    for (int y = 0; y < height; ++y) {\n",
        "        for (int x = 0; x < width; ++x) {\n",
        "            for (int c = 0; c < channels; ++c) {\n",
        "                outputImage.at<Vec3b>(y, x)[c] = 255 - inputImage.at<Vec3b>(y, x)[c];\n",
        "            }\n",
        "      }\n",
        "    }\n",
        "}\n",
        "\n",
        "int main(int argc, char** argv) {\n",
        "    if (argc != 3) {\n",
        "        std::cout << \"Usage: ./negative_sequential <input_image_path> <output_image_path>\" << std::endl;\n",
        "        return -1;\n",
        "    }\n",
        "\n",
        "    Mat inputImage = imread(argv[1], IMREAD_COLOR);\n",
        "\n",
        "    if (inputImage.empty()) {\n",
        "        std::cout << \"Could not open or find the image\" << std::endl;\n",
        "        return -1;\n",
        "    }\n",
        "\n",
        "\n",
        "    Mat outputImage(inputImage.size(), inputImage.type());\n",
        "\n",
        "    struct timeval begin, end;\n",
        "    gettimeofday(&begin, 0);\n",
        "\n",
        "    negativeImageSequential(inputImage, outputImage);\n",
        "\n",
        "    gettimeofday(&end, 0);\n",
        "    long seconds = end.tv_sec - begin.tv_sec;\n",
        "    long microseconds = end.tv_usec - begin.tv_usec;\n",
        "    double elapsed = seconds + microseconds*1e-6;\n",
        "    printf(\"Time measured: %.6f seconds.\\n\", elapsed);\n",
        "\n",
        "    imwrite(argv[2], outputImage);\n",
        "    std::cout << \"Image successfully converted sequentially as seq_neg.jpg\" << std::endl;\n",
        "\n",
        "    return 0;\n",
        "}\n"
      ],
      "metadata": {
        "colab": {
          "base_uri": "https://localhost:8080/"
        },
        "id": "zR_7MS9w9LPk",
        "outputId": "62d12947-b8eb-4d32-a14e-e66fb50ce268"
      },
      "execution_count": null,
      "outputs": [
        {
          "output_type": "stream",
          "name": "stdout",
          "text": [
            "Writing seq_neg.cpp\n"
          ]
        }
      ]
    },
    {
      "cell_type": "code",
      "source": [
        "!g++ -o open seq_neg.cpp `pkg-config --cflags --libs opencv4`\n",
        "!./open peacock.jpg seq_neg.jpg"
      ],
      "metadata": {
        "colab": {
          "base_uri": "https://localhost:8080/"
        },
        "id": "M-uDaR4X6zC9",
        "outputId": "877af965-e772-4191-cb67-98a7f6aff8ee"
      },
      "execution_count": null,
      "outputs": [
        {
          "output_type": "stream",
          "name": "stdout",
          "text": [
            "Time measured: 0.026415 seconds.\n",
            "Image successfully converted sequentially as seq_neg.jpg\n"
          ]
        }
      ]
    },
    {
      "cell_type": "markdown",
      "source": [
        "### opencv Negative"
      ],
      "metadata": {
        "id": "BD_wQ55wtwCm"
      }
    },
    {
      "cell_type": "code",
      "source": [
        "%%writefile my.cpp\n",
        "#include <stdio.h>\n",
        "#include <opencv2/opencv.hpp>\n",
        "#include <sys/time.h>\n",
        "using namespace cv;\n",
        "\n",
        "int main(int argc, char** argv)\n",
        "{\n",
        "    if (argc != 3) {\n",
        "        printf(\"Usage: ./negative <input_image> <output_image>\\n\");\n",
        "        return -1;\n",
        "    }\n",
        "\n",
        "    // Read the input image\n",
        "    Mat image = imread(argv[1]);\n",
        "    if (image.empty()) {\n",
        "        printf(\"Error: Unable to read input image\\n\");\n",
        "        return -1;\n",
        "    }\n",
        "\n",
        "    // Convert the image to its negative\n",
        "    struct timeval begin, end;\n",
        "    gettimeofday(&begin, 0);\n",
        "\n",
        "    Mat negativeImage = 255 - image;\n",
        "\n",
        "    gettimeofday(&end, 0);\n",
        "    long seconds = end.tv_sec - begin.tv_sec;\n",
        "    long microseconds = end.tv_usec - begin.tv_usec;\n",
        "    double elapsed = seconds + microseconds*1e-6;\n",
        "\n",
        "    printf(\"Time measured: %.6f seconds.\\n\", elapsed);\n",
        "\n",
        "    // Save the negative image\n",
        "    imwrite(argv[2], negativeImage);\n",
        "\n",
        "    printf(\"Negative image saved successfully as %s\\n\", argv[2]);\n",
        "\n",
        "    return 0;\n",
        "}\n"
      ],
      "metadata": {
        "colab": {
          "base_uri": "https://localhost:8080/"
        },
        "id": "-tqgpKzWdP5-",
        "outputId": "94fdbeed-7f84-4015-ed81-76a39d182e42"
      },
      "execution_count": null,
      "outputs": [
        {
          "output_type": "stream",
          "name": "stdout",
          "text": [
            "Writing my.cpp\n"
          ]
        }
      ]
    },
    {
      "cell_type": "code",
      "source": [
        "!g++ -o open my.cpp `pkg-config --cflags --libs opencv4`\n",
        "!./open peacock.jpg p1.jpg"
      ],
      "metadata": {
        "id": "8RfOjGY9dP-j",
        "colab": {
          "base_uri": "https://localhost:8080/"
        },
        "outputId": "54c11555-d4c7-4a60-b7dd-e981ec49a645"
      },
      "execution_count": null,
      "outputs": [
        {
          "output_type": "stream",
          "name": "stdout",
          "text": [
            "Time measured: 0.006465 seconds.\n",
            "Negative image saved successfully as p1.jpg\n"
          ]
        }
      ]
    },
    {
      "cell_type": "markdown",
      "source": [
        "### Parallel cuda version of converting image into negative image"
      ],
      "metadata": {
        "id": "jojZBNH2Hxch"
      }
    },
    {
      "cell_type": "code",
      "source": [
        "%%writefile my.cu\n",
        "\n",
        "#include <opencv2/opencv.hpp>\n",
        "#include <iostream>\n",
        "#include <cuda_runtime.h>\n",
        "#include <sys/time.h>\n",
        "using namespace cv;\n",
        "\n",
        "__global__ void negativeImageKernel(unsigned char* input, unsigned char* output, int width, int height, int channels) {\n",
        "    int x = blockIdx.x * blockDim.x + threadIdx.x;\n",
        "    int y = blockIdx.y * blockDim.y + threadIdx.y;\n",
        "\n",
        "    if (x < width && y < height) {\n",
        "        int idx = (y * width + x) * channels;\n",
        "        for (int c = 0; c < channels; ++c) {\n",
        "            output[idx + c] = 255 - input[idx + c];\n",
        "        }\n",
        "    }\n",
        "}\n",
        "\n",
        "void negativeImageCUDA(Mat& inputImage, Mat& outputImage) {\n",
        "    int width = inputImage.cols;\n",
        "    int height = inputImage.rows;\n",
        "    int channels = inputImage.channels();\n",
        "    size_t imageSize = width * height * channels * sizeof(unsigned char);\n",
        "\n",
        "    unsigned char* d_inputImage;\n",
        "    unsigned char* d_outputImage;\n",
        "\n",
        "    cudaMalloc(&d_inputImage, imageSize);\n",
        "    cudaMalloc(&d_outputImage, imageSize);\n",
        "\n",
        "    cudaMemcpy(d_inputImage, inputImage.data, imageSize, cudaMemcpyHostToDevice);\n",
        "\n",
        "    dim3 blockDim(32, 32);\n",
        "    dim3 gridDim((width + blockDim.x - 1) / blockDim.x, (height + blockDim.y - 1) / blockDim.y);\n",
        "\n",
        "    struct timeval begin, end;\n",
        "    gettimeofday(&begin, 0);\n",
        "\n",
        "    negativeImageKernel<<<gridDim, blockDim>>>(d_inputImage, d_outputImage, width, height, channels);\n",
        "\n",
        "    gettimeofday(&end, 0);\n",
        "    long seconds = end.tv_sec - begin.tv_sec;\n",
        "    long microseconds = end.tv_usec - begin.tv_usec;\n",
        "    double elapsed = seconds + microseconds*1e-6;\n",
        "\n",
        "    printf(\"Time measured: %.6f seconds.\\n\", elapsed);\n",
        "\n",
        "    cudaMemcpy(outputImage.data, d_outputImage, imageSize, cudaMemcpyDeviceToHost);\n",
        "\n",
        "    cudaFree(d_inputImage);\n",
        "    cudaFree(d_outputImage);\n",
        "}\n",
        "\n",
        "int main(int argc, char** argv) {\n",
        "    if (argc != 3) {\n",
        "        std::cout << \"Usage: ./negative_cuda <input_image_path> <output_image_path>\" << std::endl;\n",
        "        return -1;\n",
        "    }\n",
        "\n",
        "    Mat inputImage = imread(argv[1], IMREAD_COLOR);\n",
        "\n",
        "    if (inputImage.empty()) {\n",
        "        std::cout << \"Could not open or find the image\" << std::endl;\n",
        "        return -1;\n",
        "    }\n",
        "\n",
        "    Mat outputImage(inputImage.size(), inputImage.type());\n",
        "\n",
        "\n",
        "\n",
        "    negativeImageCUDA(inputImage, outputImage);\n",
        "\n",
        "\n",
        "\n",
        "    imwrite(argv[2], outputImage);\n",
        "\n",
        "    return 0;\n",
        "}\n"
      ],
      "metadata": {
        "colab": {
          "base_uri": "https://localhost:8080/"
        },
        "id": "9adtvFVdcQPG",
        "outputId": "44ce2c91-4cdf-46af-a6b6-6f52d732b612"
      },
      "execution_count": null,
      "outputs": [
        {
          "output_type": "stream",
          "name": "stdout",
          "text": [
            "Writing my.cu\n"
          ]
        }
      ]
    },
    {
      "cell_type": "code",
      "source": [
        "!nvcc -o program my.cu `pkg-config --cflags --libs opencv4`\n",
        "!./program peacock.jpg p.jpg"
      ],
      "metadata": {
        "colab": {
          "base_uri": "https://localhost:8080/"
        },
        "id": "APwotYwPcZVe",
        "outputId": "c1059779-e85d-430b-cf44-43091d0a9ea8"
      },
      "execution_count": null,
      "outputs": [
        {
          "output_type": "stream",
          "name": "stdout",
          "text": [
            "\u001b[01m\u001b[0m\u001b[01m/usr/include/opencv4/opencv2/stitching/detail/warpers.hpp(235)\u001b[0m: \u001b[01;35mwarning\u001b[0m #611-D: overloaded virtual function \u001b[01m\"cv::detail::PlaneWarper::buildMaps\"\u001b[0m is only partially overridden in class \u001b[01m\"cv::detail::AffineWarper\"\u001b[0m\n",
            "  class AffineWarper : public PlaneWarper\n",
            "        ^\n",
            "\n",
            "\u001b[01;36m\u001b[0m\u001b[01;36mRemark\u001b[0m: The warnings can be suppressed with \"-diag-suppress <warning-number>\"\n",
            "\n",
            "\u001b[01m\u001b[0m\u001b[01m/usr/include/opencv4/opencv2/stitching/detail/warpers.hpp(235)\u001b[0m: \u001b[01;35mwarning\u001b[0m #611-D: overloaded virtual function \u001b[01m\"cv::detail::PlaneWarper::warp\"\u001b[0m is only partially overridden in class \u001b[01m\"cv::detail::AffineWarper\"\u001b[0m\n",
            "  class AffineWarper : public PlaneWarper\n",
            "        ^\n",
            "\n",
            "\u001b[01m\u001b[0m\u001b[01m/usr/include/opencv4/opencv2/stitching/detail/blenders.hpp(100)\u001b[0m: \u001b[01;35mwarning\u001b[0m #611-D: overloaded virtual function \u001b[01m\"cv::detail::Blender::prepare\"\u001b[0m is only partially overridden in class \u001b[01m\"cv::detail::FeatherBlender\"\u001b[0m\n",
            "  class FeatherBlender : public Blender\n",
            "        ^\n",
            "\n",
            "\u001b[01m\u001b[0m\u001b[01m/usr/include/opencv4/opencv2/stitching/detail/blenders.hpp(127)\u001b[0m: \u001b[01;35mwarning\u001b[0m #611-D: overloaded virtual function \u001b[01m\"cv::detail::Blender::prepare\"\u001b[0m is only partially overridden in class \u001b[01m\"cv::detail::MultiBandBlender\"\u001b[0m\n",
            "  class MultiBandBlender : public Blender\n",
            "        ^\n",
            "\n",
            "\u001b[01m\u001b[0m\u001b[01m/usr/include/opencv4/opencv2/stitching/detail/warpers.hpp(235)\u001b[0m: \u001b[01;35mwarning\u001b[0m #611-D: overloaded virtual function \u001b[01m\"cv::detail::PlaneWarper::buildMaps\"\u001b[0m is only partially overridden in class \u001b[01m\"cv::detail::AffineWarper\"\u001b[0m\n",
            "  class AffineWarper : public PlaneWarper\n",
            "        ^\n",
            "\n",
            "\u001b[01;36m\u001b[0m\u001b[01;36mRemark\u001b[0m: The warnings can be suppressed with \"-diag-suppress <warning-number>\"\n",
            "\n",
            "\u001b[01m\u001b[0m\u001b[01m/usr/include/opencv4/opencv2/stitching/detail/warpers.hpp(235)\u001b[0m: \u001b[01;35mwarning\u001b[0m #611-D: overloaded virtual function \u001b[01m\"cv::detail::PlaneWarper::warp\"\u001b[0m is only partially overridden in class \u001b[01m\"cv::detail::AffineWarper\"\u001b[0m\n",
            "  class AffineWarper : public PlaneWarper\n",
            "        ^\n",
            "\n",
            "\u001b[01m\u001b[0m\u001b[01m/usr/include/opencv4/opencv2/stitching/detail/blenders.hpp(100)\u001b[0m: \u001b[01;35mwarning\u001b[0m #611-D: overloaded virtual function \u001b[01m\"cv::detail::Blender::prepare\"\u001b[0m is only partially overridden in class \u001b[01m\"cv::detail::FeatherBlender\"\u001b[0m\n",
            "  class FeatherBlender : public Blender\n",
            "        ^\n",
            "\n",
            "\u001b[01m\u001b[0m\u001b[01m/usr/include/opencv4/opencv2/stitching/detail/blenders.hpp(127)\u001b[0m: \u001b[01;35mwarning\u001b[0m #611-D: overloaded virtual function \u001b[01m\"cv::detail::Blender::prepare\"\u001b[0m is only partially overridden in class \u001b[01m\"cv::detail::MultiBandBlender\"\u001b[0m\n",
            "  class MultiBandBlender : public Blender\n",
            "        ^\n",
            "\n",
            "Time measured: 0.163631 seconds.\n"
          ]
        }
      ]
    },
    {
      "cell_type": "markdown",
      "source": [],
      "metadata": {
        "id": "3DfEzQM4HwGT"
      }
    },
    {
      "cell_type": "code",
      "source": [],
      "metadata": {
        "id": "GQ51kpcxIKB-"
      },
      "execution_count": null,
      "outputs": []
    },
    {
      "cell_type": "code",
      "source": [],
      "metadata": {
        "id": "G-4S-C0stzAm"
      },
      "execution_count": null,
      "outputs": []
    },
    {
      "cell_type": "code",
      "source": [],
      "metadata": {
        "id": "8ALpK10mtzCt"
      },
      "execution_count": null,
      "outputs": []
    },
    {
      "cell_type": "code",
      "source": [],
      "metadata": {
        "id": "dMCy7KFFtzFZ"
      },
      "execution_count": null,
      "outputs": []
    },
    {
      "cell_type": "markdown",
      "source": [
        "#Blur"
      ],
      "metadata": {
        "id": "SuFT0361tzSM"
      }
    },
    {
      "cell_type": "markdown",
      "source": [
        "## Sequential blur"
      ],
      "metadata": {
        "id": "whsNT-fJ4ywZ"
      }
    },
    {
      "cell_type": "code",
      "source": [
        "%%writefile seq_blur.cpp\n",
        "#include <iostream>\n",
        "#include <opencv2/opencv.hpp>\n",
        "#include <sys/time.h>\n",
        "\n",
        "using namespace cv;\n",
        "\n",
        "void gaussianBlurSequential(const Mat& inputImage, Mat& outputImage) {\n",
        "    int width = inputImage.cols;\n",
        "    int height = inputImage.rows;\n",
        "    int channels = inputImage.channels();\n",
        "\n",
        "    for (int y = 0; y < height; ++y) {\n",
        "        for (int x = 0; x < width; ++x) {\n",
        "            for (int c = 0; c < channels; ++c) {\n",
        "                float blur_value = 0.0f;\n",
        "                int num_pixels = 0;\n",
        "\n",
        "                for (int i = -2; i <= 2; ++i) {\n",
        "                    for (int j = -2; j <= 2; ++j) {\n",
        "                        int dx = x + i;\n",
        "                        int dy = y + j;\n",
        "\n",
        "                        if (dx >= 0 && dx < width && dy >= 0 && dy < height) {\n",
        "                            blur_value += inputImage.at<Vec3b>(dy, dx)[c];\n",
        "                            num_pixels++;\n",
        "                        }\n",
        "                    }\n",
        "                }\n",
        "\n",
        "                outputImage.at<Vec3b>(y, x)[c] = static_cast<unsigned char>(blur_value / num_pixels);\n",
        "            }\n",
        "        }\n",
        "    }\n",
        "}\n",
        "\n",
        "int main(int argc, char** argv) {\n",
        "    if (argc != 3) {\n",
        "        std::cout << \"Usage: ./blur_sequential <input_image_path> <output_image_path>\" << std::endl;\n",
        "        return -1;\n",
        "    }\n",
        "\n",
        "    Mat inputImage = imread(argv[1], IMREAD_COLOR);\n",
        "\n",
        "    if (inputImage.empty()) {\n",
        "        std::cout << \"Could not open or find the image\" << std::endl;\n",
        "        return -1;\n",
        "    }\n",
        "\n",
        "    Mat outputImage(inputImage.size(), inputImage.type());\n",
        "\n",
        "    struct timeval begin, end;\n",
        "    gettimeofday(&begin, 0);\n",
        "\n",
        "    gaussianBlurSequential(inputImage, outputImage);\n",
        "\n",
        "    gettimeofday(&end, 0);\n",
        "    long seconds = end.tv_sec - begin.tv_sec;\n",
        "    long microseconds = end.tv_usec - begin.tv_usec;\n",
        "    double elapsed = seconds + microseconds*1e-6;\n",
        "\n",
        "    printf(\"Time measured: %.6f seconds.\\n\", elapsed);\n",
        "\n",
        "    imwrite(argv[2], outputImage);\n",
        "    std::cout << \"Image successfully converted sequentially as seq_blur.jpg\" << std::endl;\n",
        "\n",
        "    return 0;\n",
        "}\n"
      ],
      "metadata": {
        "colab": {
          "base_uri": "https://localhost:8080/"
        },
        "id": "ZkcxpEHo4w4_",
        "outputId": "7849fc2d-8070-438f-faf0-834786d61047"
      },
      "execution_count": null,
      "outputs": [
        {
          "output_type": "stream",
          "name": "stdout",
          "text": [
            "Writing seq_blur.cpp\n"
          ]
        }
      ]
    },
    {
      "cell_type": "code",
      "source": [
        "!g++ -o open seq_blur.cpp `pkg-config --cflags --libs opencv4`\n",
        "!./open peacock.jpg seq_blur.jpg"
      ],
      "metadata": {
        "colab": {
          "base_uri": "https://localhost:8080/"
        },
        "id": "1ZfRdXES-dGX",
        "outputId": "69f118bd-a8de-49f1-fa39-74097b9c4945"
      },
      "execution_count": null,
      "outputs": [
        {
          "output_type": "stream",
          "name": "stdout",
          "text": [
            "Time measured: 0.392067 seconds.\n",
            "Image successfully converted sequentially as seq_blur.jpg\n"
          ]
        }
      ]
    },
    {
      "cell_type": "markdown",
      "source": [
        "### opencv blur version"
      ],
      "metadata": {
        "id": "bx_PycTEHmNl"
      }
    },
    {
      "cell_type": "code",
      "source": [
        "%%writefile blur.cpp\n",
        "#include <opencv2/opencv.hpp>\n",
        "#include <sys/time.h>\n",
        "\n",
        "using namespace cv;\n",
        "\n",
        "int main(int argc, char** argv)\n",
        "{\n",
        "    if (argc != 3)\n",
        "    {\n",
        "        printf(\"Usage: ./blur <input_image_path> <output_image_path>\\n\");\n",
        "        return -1;\n",
        "    }\n",
        "\n",
        "    // Read the image\n",
        "    Mat image = imread(argv[1], IMREAD_COLOR);\n",
        "\n",
        "    if (image.empty())\n",
        "    {\n",
        "        printf(\"Could not open or find the image\\n\");\n",
        "        return -1;\n",
        "    }\n",
        "\n",
        "    // Apply Gaussian blur\n",
        "    Mat blurredImage;\n",
        "\n",
        "    struct timeval begin, end;\n",
        "    gettimeofday(&begin, 0);\n",
        "\n",
        "    GaussianBlur(image, blurredImage, Size(15, 15), 0, 0);\n",
        "\n",
        "    gettimeofday(&end, 0);\n",
        "    long seconds = end.tv_sec - begin.tv_sec;\n",
        "    long microseconds = end.tv_usec - begin.tv_usec;\n",
        "    double elapsed = seconds + microseconds*1e-6;\n",
        "    printf(\"Time measured: %.6f seconds.\\n\", elapsed);\n",
        "\n",
        "    // Save the blurred image\n",
        "    imwrite(argv[2], blurredImage);\n",
        "\n",
        "    return 0;\n",
        "}\n"
      ],
      "metadata": {
        "colab": {
          "base_uri": "https://localhost:8080/"
        },
        "id": "8GYjxXuLcZXU",
        "outputId": "a4da524e-bcfa-4d3a-b1f2-cd8166e4a3a3"
      },
      "execution_count": null,
      "outputs": [
        {
          "output_type": "stream",
          "name": "stdout",
          "text": [
            "Writing blur.cpp\n"
          ]
        }
      ]
    },
    {
      "cell_type": "code",
      "source": [
        "!g++ -o blur_open blur.cpp `pkg-config --cflags --libs opencv4`\n",
        "!./blur_open peacock.jpg blur_open.jpg"
      ],
      "metadata": {
        "id": "JrWwbBX7cZaM",
        "colab": {
          "base_uri": "https://localhost:8080/"
        },
        "outputId": "c45af512-d93f-4164-ef5d-9ecf0613ac06"
      },
      "execution_count": null,
      "outputs": [
        {
          "output_type": "stream",
          "name": "stdout",
          "text": [
            "Time measured: 0.032657 seconds.\n"
          ]
        }
      ]
    },
    {
      "cell_type": "markdown",
      "source": [
        "### Parallel cuda version of blur"
      ],
      "metadata": {
        "id": "xr_r1nJgHqXb"
      }
    },
    {
      "cell_type": "code",
      "source": [
        "%%writefile blur.cu\n",
        "#include <opencv2/opencv.hpp>\n",
        "#include <iostream>\n",
        "#include <cuda_runtime.h>\n",
        "#include <sys/time.h>\n",
        "\n",
        "using namespace cv;\n",
        "\n",
        "__global__ void gaussianBlurKernel(const unsigned char* input, unsigned char* output, int width, int height, int channels) {\n",
        "    int x = blockIdx.x * blockDim.x + threadIdx.x;\n",
        "    int y = blockIdx.y * blockDim.y + threadIdx.y;\n",
        "\n",
        "    if (x < width && y < height) {\n",
        "        for (int c = 0; c < channels; ++c) {\n",
        "            float blur_value = 0.0f;\n",
        "            int num_pixels = 0;\n",
        "\n",
        "            for (int i = -2; i <= 2; ++i) {\n",
        "                for (int j = -2; j <= 2; ++j) {\n",
        "                    int dx = x + i;\n",
        "                    int dy = y + j;\n",
        "\n",
        "                    if (dx >= 0 && dx < width && dy >= 0 && dy < height) {\n",
        "                        blur_value += input[(dy * width + dx) * channels + c];\n",
        "                        num_pixels++;\n",
        "                    }\n",
        "                }\n",
        "            }\n",
        "\n",
        "            output[(y * width + x) * channels + c] = static_cast<unsigned char>(blur_value / num_pixels);\n",
        "        }\n",
        "    }\n",
        "}\n",
        "\n",
        "void gaussianBlurCUDA(const Mat& inputImage, Mat& outputImage) {\n",
        "    int width = inputImage.cols;\n",
        "    int height = inputImage.rows;\n",
        "    int channels = inputImage.channels();\n",
        "    size_t imageSize = width * height * channels * sizeof(unsigned char);\n",
        "\n",
        "    unsigned char* d_inputImage;\n",
        "    unsigned char* d_outputImage;\n",
        "\n",
        "    cudaMalloc(&d_inputImage, imageSize);\n",
        "    cudaMalloc(&d_outputImage, imageSize);\n",
        "\n",
        "    cudaMemcpy(d_inputImage, inputImage.data, imageSize, cudaMemcpyHostToDevice);\n",
        "\n",
        "    dim3 blockDim(32, 32);\n",
        "    dim3 gridDim((width + blockDim.x - 1) / blockDim.x, (height + blockDim.y - 1) / blockDim.y);\n",
        "\n",
        "    struct timeval begin, end;\n",
        "    gettimeofday(&begin, 0);\n",
        "\n",
        "    gaussianBlurKernel<<<gridDim, blockDim>>>(d_inputImage, d_outputImage, width, height, channels);\n",
        "\n",
        "    gettimeofday(&end, 0);\n",
        "    long seconds = end.tv_sec - begin.tv_sec;\n",
        "    long microseconds = end.tv_usec - begin.tv_usec;\n",
        "    double elapsed = seconds + microseconds*1e-6;\n",
        "\n",
        "    printf(\"Time measured: %.6f seconds.\\n\", elapsed);\n",
        "\n",
        "    cudaMemcpy(outputImage.data, d_outputImage, imageSize, cudaMemcpyDeviceToHost);\n",
        "\n",
        "    cudaFree(d_inputImage);\n",
        "    cudaFree(d_outputImage);\n",
        "}\n",
        "\n",
        "int main(int argc, char** argv) {\n",
        "    if (argc != 3) {\n",
        "        std::cout << \"Usage: ./blur_cuda <input_image_path> <output_image_path>\" << std::endl;\n",
        "        return -1;\n",
        "    }\n",
        "\n",
        "    Mat inputImage = imread(argv[1], IMREAD_COLOR);\n",
        "\n",
        "    if (inputImage.empty()) {\n",
        "        std::cout << \"Could not open or find the image\" << std::endl;\n",
        "        return -1;\n",
        "    }\n",
        "\n",
        "    Mat outputImage(inputImage.size(), inputImage.type());\n",
        "\n",
        "    gaussianBlurCUDA(inputImage, outputImage);\n",
        "\n",
        "    imwrite(argv[2], outputImage);\n",
        "\n",
        "    return 0;\n",
        "}\n"
      ],
      "metadata": {
        "colab": {
          "base_uri": "https://localhost:8080/"
        },
        "id": "23yO4bWoeLvG",
        "outputId": "f43a51b4-0e2e-4baa-bb5d-f6f4b218f6f2"
      },
      "execution_count": null,
      "outputs": [
        {
          "output_type": "stream",
          "name": "stdout",
          "text": [
            "Writing blur.cu\n"
          ]
        }
      ]
    },
    {
      "cell_type": "code",
      "source": [
        "!nvcc -o blur_cu blur.cu `pkg-config --cflags --libs opencv4`\n",
        "!./blur_cu peacock.jpg images/blur_cu.jpg"
      ],
      "metadata": {
        "colab": {
          "base_uri": "https://localhost:8080/"
        },
        "id": "mSBQPfLFeLxQ",
        "outputId": "669e3482-f198-4b33-cb18-7d5cef1d0162"
      },
      "execution_count": null,
      "outputs": [
        {
          "output_type": "stream",
          "name": "stdout",
          "text": [
            "\u001b[01m\u001b[0m\u001b[01m/usr/include/opencv4/opencv2/stitching/detail/warpers.hpp(235)\u001b[0m: \u001b[01;35mwarning\u001b[0m #611-D: overloaded virtual function \u001b[01m\"cv::detail::PlaneWarper::buildMaps\"\u001b[0m is only partially overridden in class \u001b[01m\"cv::detail::AffineWarper\"\u001b[0m\n",
            "  class AffineWarper : public PlaneWarper\n",
            "        ^\n",
            "\n",
            "\u001b[01;36m\u001b[0m\u001b[01;36mRemark\u001b[0m: The warnings can be suppressed with \"-diag-suppress <warning-number>\"\n",
            "\n",
            "\u001b[01m\u001b[0m\u001b[01m/usr/include/opencv4/opencv2/stitching/detail/warpers.hpp(235)\u001b[0m: \u001b[01;35mwarning\u001b[0m #611-D: overloaded virtual function \u001b[01m\"cv::detail::PlaneWarper::warp\"\u001b[0m is only partially overridden in class \u001b[01m\"cv::detail::AffineWarper\"\u001b[0m\n",
            "  class AffineWarper : public PlaneWarper\n",
            "        ^\n",
            "\n",
            "\u001b[01m\u001b[0m\u001b[01m/usr/include/opencv4/opencv2/stitching/detail/blenders.hpp(100)\u001b[0m: \u001b[01;35mwarning\u001b[0m #611-D: overloaded virtual function \u001b[01m\"cv::detail::Blender::prepare\"\u001b[0m is only partially overridden in class \u001b[01m\"cv::detail::FeatherBlender\"\u001b[0m\n",
            "  class FeatherBlender : public Blender\n",
            "        ^\n",
            "\n",
            "\u001b[01m\u001b[0m\u001b[01m/usr/include/opencv4/opencv2/stitching/detail/blenders.hpp(127)\u001b[0m: \u001b[01;35mwarning\u001b[0m #611-D: overloaded virtual function \u001b[01m\"cv::detail::Blender::prepare\"\u001b[0m is only partially overridden in class \u001b[01m\"cv::detail::MultiBandBlender\"\u001b[0m\n",
            "  class MultiBandBlender : public Blender\n",
            "        ^\n",
            "\n",
            "\u001b[01m\u001b[0m\u001b[01m/usr/include/opencv4/opencv2/stitching/detail/warpers.hpp(235)\u001b[0m: \u001b[01;35mwarning\u001b[0m #611-D: overloaded virtual function \u001b[01m\"cv::detail::PlaneWarper::buildMaps\"\u001b[0m is only partially overridden in class \u001b[01m\"cv::detail::AffineWarper\"\u001b[0m\n",
            "  class AffineWarper : public PlaneWarper\n",
            "        ^\n",
            "\n",
            "\u001b[01;36m\u001b[0m\u001b[01;36mRemark\u001b[0m: The warnings can be suppressed with \"-diag-suppress <warning-number>\"\n",
            "\n",
            "\u001b[01m\u001b[0m\u001b[01m/usr/include/opencv4/opencv2/stitching/detail/warpers.hpp(235)\u001b[0m: \u001b[01;35mwarning\u001b[0m #611-D: overloaded virtual function \u001b[01m\"cv::detail::PlaneWarper::warp\"\u001b[0m is only partially overridden in class \u001b[01m\"cv::detail::AffineWarper\"\u001b[0m\n",
            "  class AffineWarper : public PlaneWarper\n",
            "        ^\n",
            "\n",
            "\u001b[01m\u001b[0m\u001b[01m/usr/include/opencv4/opencv2/stitching/detail/blenders.hpp(100)\u001b[0m: \u001b[01;35mwarning\u001b[0m #611-D: overloaded virtual function \u001b[01m\"cv::detail::Blender::prepare\"\u001b[0m is only partially overridden in class \u001b[01m\"cv::detail::FeatherBlender\"\u001b[0m\n",
            "  class FeatherBlender : public Blender\n",
            "        ^\n",
            "\n",
            "\u001b[01m\u001b[0m\u001b[01m/usr/include/opencv4/opencv2/stitching/detail/blenders.hpp(127)\u001b[0m: \u001b[01;35mwarning\u001b[0m #611-D: overloaded virtual function \u001b[01m\"cv::detail::Blender::prepare\"\u001b[0m is only partially overridden in class \u001b[01m\"cv::detail::MultiBandBlender\"\u001b[0m\n",
            "  class MultiBandBlender : public Blender\n",
            "        ^\n",
            "\n",
            "Time measured: 0.098359 seconds.\n"
          ]
        }
      ]
    },
    {
      "cell_type": "code",
      "source": [],
      "metadata": {
        "id": "9elNYXDYrzIh"
      },
      "execution_count": null,
      "outputs": []
    },
    {
      "cell_type": "code",
      "source": [],
      "metadata": {
        "id": "FjHprwWMrzKe"
      },
      "execution_count": null,
      "outputs": []
    },
    {
      "cell_type": "code",
      "source": [],
      "metadata": {
        "id": "H31nOsCurzNI"
      },
      "execution_count": null,
      "outputs": []
    },
    {
      "cell_type": "code",
      "source": [],
      "metadata": {
        "id": "6tCweT-OeLzV"
      },
      "execution_count": null,
      "outputs": []
    },
    {
      "cell_type": "markdown",
      "source": [
        "#Mirror"
      ],
      "metadata": {
        "id": "W-T0litVt2ZN"
      }
    },
    {
      "cell_type": "markdown",
      "source": [
        "## sequential mirror"
      ],
      "metadata": {
        "id": "6GgWVM2S442X"
      }
    },
    {
      "cell_type": "code",
      "source": [
        "%%writefile seq_mirror.cpp\n",
        "#include <iostream>\n",
        "#include <opencv2/opencv.hpp>\n",
        "#include <sys/time.h>\n",
        "\n",
        "using namespace cv;\n",
        "\n",
        "void horizontalMirrorSequential(const Mat& inputImage, Mat& outputImage) {\n",
        "    int width = inputImage.cols;\n",
        "    int height = inputImage.rows;\n",
        "    int channels = inputImage.channels();\n",
        "\n",
        "    for (int y = 0; y < height; ++y) {\n",
        "        for (int x = 0; x < width; ++x) {\n",
        "            for (int c = 0; c < channels; ++c) {\n",
        "                outputImage.at<Vec3b>(y, width - 1 - x)[c] = inputImage.at<Vec3b>(y, x)[c];\n",
        "            }\n",
        "        }\n",
        "    }\n",
        "}\n",
        "\n",
        "int main(int argc, char** argv) {\n",
        "    if (argc != 3) {\n",
        "        std::cout << \"Usage: ./horizontal_mirror_sequential <input_image_path> <output_image_path>\" << std::endl;\n",
        "        return -1;\n",
        "    }\n",
        "\n",
        "    Mat inputImage = imread(argv[1], IMREAD_COLOR);\n",
        "\n",
        "    if (inputImage.empty()) {\n",
        "        std::cout << \"Could not open or find the image\" << std::endl;\n",
        "        return -1;\n",
        "    }\n",
        "\n",
        "    Mat outputImage(inputImage.size(), inputImage.type());\n",
        "\n",
        "    struct timeval begin, end;\n",
        "    gettimeofday(&begin, 0);\n",
        "\n",
        "\n",
        "    horizontalMirrorSequential(inputImage, outputImage);\n",
        "\n",
        "    gettimeofday(&end, 0);\n",
        "    long seconds = end.tv_sec - begin.tv_sec;\n",
        "    long microseconds = end.tv_usec - begin.tv_usec;\n",
        "    double elapsed = seconds + microseconds*1e-6;\n",
        "\n",
        "    printf(\"Time measured: %.6f seconds.\\n\", elapsed);\n",
        "\n",
        "    imwrite(argv[2], outputImage);\n",
        "    std::cout << \"Image successfully converted sequentially as seq_mirror.jpg\" << std::endl;\n",
        "\n",
        "    return 0;\n",
        "}\n"
      ],
      "metadata": {
        "colab": {
          "base_uri": "https://localhost:8080/"
        },
        "id": "xG6XG-ZA4w2l",
        "outputId": "094eb8bb-a618-4684-e744-db59eff7109b"
      },
      "execution_count": null,
      "outputs": [
        {
          "output_type": "stream",
          "name": "stdout",
          "text": [
            "Writing seq_mirror.cpp\n"
          ]
        }
      ]
    },
    {
      "cell_type": "code",
      "source": [
        "!g++ -o open seq_mirror.cpp `pkg-config --cflags --libs opencv4`\n",
        "!./open peacock.jpg seq_mirror.jpg"
      ],
      "metadata": {
        "colab": {
          "base_uri": "https://localhost:8080/"
        },
        "id": "MNcSWnQl-nfu",
        "outputId": "6f3933f6-db39-49ab-fb3e-159361aca531"
      },
      "execution_count": null,
      "outputs": [
        {
          "output_type": "stream",
          "name": "stdout",
          "text": [
            "Time measured: 0.034862 seconds.\n",
            "Image successfully converted sequentially as seq_mirror.jpg\n"
          ]
        }
      ]
    },
    {
      "cell_type": "markdown",
      "source": [
        "### opencv version of mirroring image"
      ],
      "metadata": {
        "id": "Zf2n58ONINMT"
      }
    },
    {
      "cell_type": "code",
      "source": [
        "%%writefile flip.cpp\n",
        "#include <opencv2/opencv.hpp>\n",
        "#include <sys/time.h>\n",
        "\n",
        "using namespace cv;\n",
        "\n",
        "int main(int argc, char** argv)\n",
        "{\n",
        "    if (argc != 3)\n",
        "    {\n",
        "        printf(\"Usage: ./horizontal_mirror <input_image_path> <output_image_path>\\n\");\n",
        "        return -1;\n",
        "    }\n",
        "\n",
        "    // Read the image\n",
        "    Mat image = imread(argv[1], IMREAD_COLOR);\n",
        "\n",
        "    if (image.empty())\n",
        "    {\n",
        "        printf(\"Could not open or find the image\\n\");\n",
        "        return -1;\n",
        "    }\n",
        "\n",
        "    // Flip the image horizontally\n",
        "    Mat mirroredImage;\n",
        "\n",
        "    struct timeval begin, end;\n",
        "    gettimeofday(&begin, 0);\n",
        "\n",
        "    flip(image, mirroredImage, 1);\n",
        "\n",
        "    gettimeofday(&end, 0);\n",
        "    long seconds = end.tv_sec - begin.tv_sec;\n",
        "    long microseconds = end.tv_usec - begin.tv_usec;\n",
        "    double elapsed = seconds + microseconds*1e-6;\n",
        "\n",
        "    printf(\"Time measured: %.6f seconds.\\n\", elapsed);\n",
        "\n",
        "    // Save the mirrored image\n",
        "    imwrite(argv[2], mirroredImage);\n",
        "\n",
        "    return 0;\n",
        "}\n"
      ],
      "metadata": {
        "colab": {
          "base_uri": "https://localhost:8080/"
        },
        "id": "cISuvpAaeL1R",
        "outputId": "4fcf7a1a-7426-4360-cc95-dfc2e15acf28"
      },
      "execution_count": null,
      "outputs": [
        {
          "output_type": "stream",
          "name": "stdout",
          "text": [
            "Writing flip.cpp\n"
          ]
        }
      ]
    },
    {
      "cell_type": "code",
      "source": [
        "!g++ -o flip_open flip.cpp `pkg-config --cflags --libs opencv4`\n",
        "!./flip_open peacock.jpg flip_open.jpg"
      ],
      "metadata": {
        "id": "IdYAhcXWeL3Q",
        "colab": {
          "base_uri": "https://localhost:8080/"
        },
        "outputId": "e3f5af72-310f-411e-f96a-23166679c950"
      },
      "execution_count": null,
      "outputs": [
        {
          "output_type": "stream",
          "name": "stdout",
          "text": [
            "Time measured: 0.001581 seconds.\n"
          ]
        }
      ]
    },
    {
      "cell_type": "markdown",
      "source": [
        "### Parallel cuda version of Image mirroring"
      ],
      "metadata": {
        "id": "Lgaojxp-ISyV"
      }
    },
    {
      "cell_type": "code",
      "source": [
        "%%writefile flip.cu\n",
        "#include <opencv2/opencv.hpp>\n",
        "#include <iostream>\n",
        "#include <cuda_runtime.h>\n",
        "#include <sys/time.h>\n",
        "\n",
        "using namespace cv;\n",
        "\n",
        "__global__ void horizontalMirrorKernel(const unsigned char* input, unsigned char* output, int width, int height, int channels) {\n",
        "    int x = blockIdx.x * blockDim.x + threadIdx.x;\n",
        "    int y = blockIdx.y * blockDim.y + threadIdx.y;\n",
        "\n",
        "    if (x < width && y < height) {\n",
        "        int inputIdx = (y * width + x) * channels;\n",
        "        int outputIdx = (y * width + (width - 1 - x)) * channels;\n",
        "\n",
        "        for (int c = 0; c < channels; ++c) {\n",
        "            output[outputIdx + c] = input[inputIdx + c];\n",
        "        }\n",
        "    }\n",
        "}\n",
        "\n",
        "void horizontalMirrorCUDA(const Mat& inputImage, Mat& outputImage) {\n",
        "    int width = inputImage.cols;\n",
        "    int height = inputImage.rows;\n",
        "    int channels = inputImage.channels();\n",
        "    size_t imageSize = width * height * channels * sizeof(unsigned char);\n",
        "\n",
        "    unsigned char* d_inputImage;\n",
        "    unsigned char* d_outputImage;\n",
        "\n",
        "    cudaMalloc(&d_inputImage, imageSize);\n",
        "    cudaMalloc(&d_outputImage, imageSize);\n",
        "\n",
        "    cudaMemcpy(d_inputImage, inputImage.data, imageSize, cudaMemcpyHostToDevice);\n",
        "\n",
        "    dim3 blockDim(32, 32);\n",
        "    dim3 gridDim((width + blockDim.x - 1) / blockDim.x, (height + blockDim.y - 1) / blockDim.y);\n",
        "\n",
        "    struct timeval begin, end;\n",
        "    gettimeofday(&begin, 0);\n",
        "\n",
        "    horizontalMirrorKernel<<<gridDim, blockDim>>>(d_inputImage, d_outputImage, width, height, channels);\n",
        "\n",
        "    gettimeofday(&end, 0);\n",
        "    long seconds = end.tv_sec - begin.tv_sec;\n",
        "    long microseconds = end.tv_usec - begin.tv_usec;\n",
        "    double elapsed = seconds + microseconds*1e-6;\n",
        "\n",
        "    printf(\"Time measured: %.6f seconds.\\n\", elapsed);\n",
        "\n",
        "    cudaMemcpy(outputImage.data, d_outputImage, imageSize, cudaMemcpyDeviceToHost);\n",
        "\n",
        "    cudaFree(d_inputImage);\n",
        "    cudaFree(d_outputImage);\n",
        "}\n",
        "\n",
        "int main(int argc, char** argv) {\n",
        "    if (argc != 3) {\n",
        "        std::cout << \"Usage: ./horizontal_mirror_cuda <input_image_path> <output_image_path>\" << std::endl;\n",
        "        return -1;\n",
        "    }\n",
        "\n",
        "    Mat inputImage = imread(argv[1], IMREAD_COLOR);\n",
        "\n",
        "    if (inputImage.empty()) {\n",
        "        std::cout << \"Could not open or find the image\" << std::endl;\n",
        "        return -1;\n",
        "    }\n",
        "\n",
        "    Mat outputImage(inputImage.size(), inputImage.type());\n",
        "\n",
        "    horizontalMirrorCUDA(inputImage, outputImage);\n",
        "\n",
        "    imwrite(argv[2], outputImage);\n",
        "\n",
        "    return 0;\n",
        "}\n"
      ],
      "metadata": {
        "colab": {
          "base_uri": "https://localhost:8080/"
        },
        "id": "xqRT33VCcReW",
        "outputId": "7325268e-0dbb-464f-8a35-b7e7218901ab"
      },
      "execution_count": null,
      "outputs": [
        {
          "output_type": "stream",
          "name": "stdout",
          "text": [
            "Writing flip.cu\n"
          ]
        }
      ]
    },
    {
      "cell_type": "code",
      "source": [
        "!nvcc -o flip_cu flip.cu `pkg-config --cflags --libs opencv4`\n",
        "!./flip_cu peacock.jpg flip_cu.jpg"
      ],
      "metadata": {
        "colab": {
          "base_uri": "https://localhost:8080/"
        },
        "id": "6XKKIHRIsb3s",
        "outputId": "8b38a79b-af1a-4df1-f4f2-3edfb5cd4f1b"
      },
      "execution_count": null,
      "outputs": [
        {
          "output_type": "stream",
          "name": "stdout",
          "text": [
            "\u001b[01m\u001b[0m\u001b[01m/usr/include/opencv4/opencv2/stitching/detail/warpers.hpp(235)\u001b[0m: \u001b[01;35mwarning\u001b[0m #611-D: overloaded virtual function \u001b[01m\"cv::detail::PlaneWarper::buildMaps\"\u001b[0m is only partially overridden in class \u001b[01m\"cv::detail::AffineWarper\"\u001b[0m\n",
            "  class AffineWarper : public PlaneWarper\n",
            "        ^\n",
            "\n",
            "\u001b[01;36m\u001b[0m\u001b[01;36mRemark\u001b[0m: The warnings can be suppressed with \"-diag-suppress <warning-number>\"\n",
            "\n",
            "\u001b[01m\u001b[0m\u001b[01m/usr/include/opencv4/opencv2/stitching/detail/warpers.hpp(235)\u001b[0m: \u001b[01;35mwarning\u001b[0m #611-D: overloaded virtual function \u001b[01m\"cv::detail::PlaneWarper::warp\"\u001b[0m is only partially overridden in class \u001b[01m\"cv::detail::AffineWarper\"\u001b[0m\n",
            "  class AffineWarper : public PlaneWarper\n",
            "        ^\n",
            "\n",
            "\u001b[01m\u001b[0m\u001b[01m/usr/include/opencv4/opencv2/stitching/detail/blenders.hpp(100)\u001b[0m: \u001b[01;35mwarning\u001b[0m #611-D: overloaded virtual function \u001b[01m\"cv::detail::Blender::prepare\"\u001b[0m is only partially overridden in class \u001b[01m\"cv::detail::FeatherBlender\"\u001b[0m\n",
            "  class FeatherBlender : public Blender\n",
            "        ^\n",
            "\n",
            "\u001b[01m\u001b[0m\u001b[01m/usr/include/opencv4/opencv2/stitching/detail/blenders.hpp(127)\u001b[0m: \u001b[01;35mwarning\u001b[0m #611-D: overloaded virtual function \u001b[01m\"cv::detail::Blender::prepare\"\u001b[0m is only partially overridden in class \u001b[01m\"cv::detail::MultiBandBlender\"\u001b[0m\n",
            "  class MultiBandBlender : public Blender\n",
            "        ^\n",
            "\n",
            "\u001b[01m\u001b[0m\u001b[01m/usr/include/opencv4/opencv2/stitching/detail/warpers.hpp(235)\u001b[0m: \u001b[01;35mwarning\u001b[0m #611-D: overloaded virtual function \u001b[01m\"cv::detail::PlaneWarper::buildMaps\"\u001b[0m is only partially overridden in class \u001b[01m\"cv::detail::AffineWarper\"\u001b[0m\n",
            "  class AffineWarper : public PlaneWarper\n",
            "        ^\n",
            "\n",
            "\u001b[01;36m\u001b[0m\u001b[01;36mRemark\u001b[0m: The warnings can be suppressed with \"-diag-suppress <warning-number>\"\n",
            "\n",
            "\u001b[01m\u001b[0m\u001b[01m/usr/include/opencv4/opencv2/stitching/detail/warpers.hpp(235)\u001b[0m: \u001b[01;35mwarning\u001b[0m #611-D: overloaded virtual function \u001b[01m\"cv::detail::PlaneWarper::warp\"\u001b[0m is only partially overridden in class \u001b[01m\"cv::detail::AffineWarper\"\u001b[0m\n",
            "  class AffineWarper : public PlaneWarper\n",
            "        ^\n",
            "\n",
            "\u001b[01m\u001b[0m\u001b[01m/usr/include/opencv4/opencv2/stitching/detail/blenders.hpp(100)\u001b[0m: \u001b[01;35mwarning\u001b[0m #611-D: overloaded virtual function \u001b[01m\"cv::detail::Blender::prepare\"\u001b[0m is only partially overridden in class \u001b[01m\"cv::detail::FeatherBlender\"\u001b[0m\n",
            "  class FeatherBlender : public Blender\n",
            "        ^\n",
            "\n",
            "\u001b[01m\u001b[0m\u001b[01m/usr/include/opencv4/opencv2/stitching/detail/blenders.hpp(127)\u001b[0m: \u001b[01;35mwarning\u001b[0m #611-D: overloaded virtual function \u001b[01m\"cv::detail::Blender::prepare\"\u001b[0m is only partially overridden in class \u001b[01m\"cv::detail::MultiBandBlender\"\u001b[0m\n",
            "  class MultiBandBlender : public Blender\n",
            "        ^\n",
            "\n",
            "Time measured: 0.048404 seconds.\n"
          ]
        }
      ]
    },
    {
      "cell_type": "code",
      "source": [],
      "metadata": {
        "id": "qCwDAQTssb6F"
      },
      "execution_count": null,
      "outputs": []
    },
    {
      "cell_type": "code",
      "source": [],
      "metadata": {
        "id": "BYX8kj7rsb73"
      },
      "execution_count": null,
      "outputs": []
    },
    {
      "cell_type": "code",
      "source": [],
      "metadata": {
        "id": "8MxkZp7fscAM"
      },
      "execution_count": null,
      "outputs": []
    },
    {
      "cell_type": "code",
      "source": [],
      "metadata": {
        "id": "QMneQ386IZz1"
      },
      "execution_count": null,
      "outputs": []
    },
    {
      "cell_type": "markdown",
      "source": [
        "# Square Blur"
      ],
      "metadata": {
        "id": "3R1csG38t5Z-"
      }
    },
    {
      "cell_type": "markdown",
      "source": [
        "### sequential square blur"
      ],
      "metadata": {
        "id": "IRrrv_tP45q8"
      }
    },
    {
      "cell_type": "code",
      "source": [
        "%%writefile seq_squareblur.cpp\n",
        "#include <iostream>\n",
        "#include <opencv2/opencv.hpp>\n",
        "#include <sys/time.h>\n",
        "\n",
        "using namespace cv;\n",
        "\n",
        "void blurBackgroundSequential(const Mat& inputImage, Mat& outputImage) {\n",
        "    int rows = inputImage.rows;\n",
        "    int cols = inputImage.cols;\n",
        "    int step = inputImage.step;\n",
        "\n",
        "    float blurKernel[9] = {1.f / 16, 2.f / 16, 1.f / 16, 2.f / 16, 4.f / 16, 2.f / 16, 1.f / 16, 2.f / 16, 1.f / 16};\n",
        "\n",
        "    for (int y = 1; y < rows - 1; ++y) {\n",
        "        for (int x = 1; x < cols - 1; ++x) {\n",
        "            float blurredPixel[3] = {0.f, 0.f, 0.f};\n",
        "\n",
        "            for (int i = -1; i <= 1; ++i) {\n",
        "                for (int j = -1; j <= 1; ++j) {\n",
        "                    int neighborX = std::min(std::max(x + j, 0), cols - 1);\n",
        "                    int neighborY = std::min(std::max(y + i, 0), rows - 1);\n",
        "                    int neighborIndex = neighborY * step + neighborX * 3;\n",
        "\n",
        "                    blurredPixel[0] += inputImage.data[neighborIndex + 0] * blurKernel[(i + 1) * 3 + (j + 1)];\n",
        "                    blurredPixel[1] += inputImage.data[neighborIndex + 1] * blurKernel[(i + 1) * 3 + (j + 1)];\n",
        "                    blurredPixel[2] += inputImage.data[neighborIndex + 2] * blurKernel[(i + 1) * 3 + (j + 1)];\n",
        "                }\n",
        "            }\n",
        "\n",
        "            int pixelIndex = y * step + x * 3;\n",
        "            outputImage.data[pixelIndex + 0] = static_cast<unsigned char>(blurredPixel[0]);\n",
        "            outputImage.data[pixelIndex + 1] = static_cast<unsigned char>(blurredPixel[1]);\n",
        "            outputImage.data[pixelIndex + 2] = static_cast<unsigned char>(blurredPixel[2]);\n",
        "        }\n",
        "    }\n",
        "}\n",
        "\n",
        "int main(int argc, char** argv) {\n",
        "    if (argc != 4) {\n",
        "        std::cout << \"Usage: ./blur_background_overlay <input_image_path> <output_image_path> <small_image_path>\" << std::endl;\n",
        "        return -1;\n",
        "    }\n",
        "\n",
        "    Mat backgroundImage = imread(argv[1], IMREAD_COLOR);\n",
        "    Mat smallImage = imread(argv[3], IMREAD_COLOR);\n",
        "\n",
        "    if (backgroundImage.empty() || smallImage.empty()) {\n",
        "        std::cout << \"Could not open or find the images\" << std::endl;\n",
        "        return -1;\n",
        "    }\n",
        "\n",
        "    Mat blurredBackground(backgroundImage.size(), backgroundImage.type());\n",
        "\n",
        "    struct timeval begin, end;\n",
        "    gettimeofday(&begin, 0);\n",
        "\n",
        "    blurBackgroundSequential(backgroundImage, blurredBackground);\n",
        "\n",
        "    gettimeofday(&end, 0);\n",
        "    long seconds = end.tv_sec - begin.tv_sec;\n",
        "    long microseconds = end.tv_usec - begin.tv_usec;\n",
        "    double elapsed = seconds + microseconds*1e-6;\n",
        "\n",
        "    printf(\"Time measured: %.6f seconds.\\n\", elapsed);\n",
        "\n",
        "    // Resize the small image to 60% of its original size\n",
        "    Mat resizedSmallImage;\n",
        "    resize(smallImage, resizedSmallImage, Size(), 0.6, 0.6);\n",
        "\n",
        "    // Overlay the small image on the blurred background\n",
        "    int x = (blurredBackground.cols - resizedSmallImage.cols) / 2;\n",
        "    int y = (blurredBackground.rows - resizedSmallImage.rows) / 2;\n",
        "    Rect roi(x, y, resizedSmallImage.cols, resizedSmallImage.rows);\n",
        "    resizedSmallImage.copyTo(blurredBackground(roi));\n",
        "\n",
        "    imwrite(argv[2], blurredBackground);\n",
        "\n",
        "    std::cout << \"Blurred background image with overlay created successfully as seq_squareblur.jpg\" << std::endl;\n",
        "\n",
        "    return 0;\n",
        "}\n",
        "\n"
      ],
      "metadata": {
        "colab": {
          "base_uri": "https://localhost:8080/"
        },
        "id": "dxKLGhrI4w0N",
        "outputId": "0828c47c-4573-4919-abae-80cf1c07282e"
      },
      "execution_count": null,
      "outputs": [
        {
          "output_type": "stream",
          "name": "stdout",
          "text": [
            "Writing seq_squareblur.cpp\n"
          ]
        }
      ]
    },
    {
      "cell_type": "code",
      "source": [
        "!g++ -o open seq_squareblur.cpp `pkg-config --cflags --libs opencv4`\n",
        "!./open peacock.jpg seq_squareblur.jpg peacock.jpg"
      ],
      "metadata": {
        "colab": {
          "base_uri": "https://localhost:8080/"
        },
        "id": "jN011ORx4wxu",
        "outputId": "3534e279-5ff6-4c6f-f68a-23d76eea04f9"
      },
      "execution_count": null,
      "outputs": [
        {
          "output_type": "stream",
          "name": "stdout",
          "text": [
            "Time measured: 0.119423 seconds.\n",
            "Blurred background image with overlay created successfully as seq_squareblur.jpg\n"
          ]
        }
      ]
    },
    {
      "cell_type": "markdown",
      "source": [
        "### Opencv square blur *version*"
      ],
      "metadata": {
        "id": "Blo8VAjkGql4"
      }
    },
    {
      "cell_type": "code",
      "source": [
        "%%writefile sq_blur.cpp\n",
        "#include <opencv2/opencv.hpp>\n",
        "#include <sys/time.h>\n",
        "\n",
        "using namespace cv;\n",
        "\n",
        "int main(int argc, char** argv)\n",
        "{\n",
        "    if (argc != 3)\n",
        "    {\n",
        "        printf(\"Usage: ./blurred_background <input_image_path> <output_image_path>\\n\");\n",
        "        return -1;\n",
        "    }\n",
        "\n",
        "    // Read the input image\n",
        "    Mat image = imread(argv[1], IMREAD_COLOR);\n",
        "\n",
        "    if (image.empty())\n",
        "    {\n",
        "        printf(\"Could not open or find the image\\n\");\n",
        "        return -1;\n",
        "    }\n",
        "        struct timeval begin, end;\n",
        "    gettimeofday(&begin, 0);\n",
        "\n",
        "    // Create a blurred version of the image for the background\n",
        "    Mat blurredImage;\n",
        "    GaussianBlur(image, blurredImage, Size(15, 15), 0, 0);\n",
        "\n",
        "    // Create a smaller version of the image\n",
        "    Mat smallImage;\n",
        "    resize(image, smallImage, Size(), 0.85, 0.85);\n",
        "\n",
        "    // Overlay the smaller image on the blurred background\n",
        "    Mat outputImage = blurredImage.clone();\n",
        "    int x = (blurredImage.cols - smallImage.cols) / 2;\n",
        "    int y = (blurredImage.rows - smallImage.rows) / 2;\n",
        "\n",
        "\n",
        "\n",
        "    Rect roi(x, y, smallImage.cols, smallImage.rows);\n",
        "\n",
        "    gettimeofday(&end, 0);\n",
        "    long seconds = end.tv_sec - begin.tv_sec;\n",
        "    long microseconds = end.tv_usec - begin.tv_usec;\n",
        "    double elapsed = seconds + microseconds*1e-6;\n",
        "\n",
        "    printf(\"Time measured: %.6f seconds.\\n\", elapsed);\n",
        "\n",
        "    smallImage.copyTo(outputImage(roi));\n",
        "\n",
        "    // Save the image with the desired effect\n",
        "    imwrite(argv[2], outputImage);\n",
        "\n",
        "    return 0;\n",
        "}\n"
      ],
      "metadata": {
        "colab": {
          "base_uri": "https://localhost:8080/"
        },
        "id": "VlYeF8S4scEG",
        "outputId": "ad813731-ba92-40eb-dcae-157369e529d4"
      },
      "execution_count": null,
      "outputs": [
        {
          "output_type": "stream",
          "name": "stdout",
          "text": [
            "Writing sq_blur.cpp\n"
          ]
        }
      ]
    },
    {
      "cell_type": "code",
      "source": [
        "!g++ -o sqblur_open sq_blur.cpp `pkg-config --cflags --libs opencv4`\n",
        "!./sqblur_open peacock.jpg sq_blur_open.jpg"
      ],
      "metadata": {
        "id": "bk1aW9mwscGy",
        "colab": {
          "base_uri": "https://localhost:8080/"
        },
        "outputId": "9ffb6f53-0fd0-47c7-eb6d-518992939b44"
      },
      "execution_count": null,
      "outputs": [
        {
          "output_type": "stream",
          "name": "stdout",
          "text": [
            "Time measured: 0.013328 seconds.\n"
          ]
        }
      ]
    },
    {
      "cell_type": "markdown",
      "source": [
        "### Parallel cuda square blur image version"
      ],
      "metadata": {
        "id": "OrzRJR0UGLJc"
      }
    },
    {
      "cell_type": "code",
      "source": [
        "%%writefile sq_blur.cu\n",
        "#include <iostream>\n",
        "#include <opencv2/opencv.hpp>\n",
        "#include <cuda_runtime.h>\n",
        "#include <sys/time.h>\n",
        "\n",
        "using namespace cv;\n",
        "\n",
        "__global__ void cudaBlurBackground(uchar* inputImage, uchar* outputImage, int rows, int cols, int step)\n",
        "{\n",
        "    int x = blockIdx.x * blockDim.x + threadIdx.x;\n",
        "    int y = blockIdx.y * blockDim.y + threadIdx.y;\n",
        "\n",
        "    if (x < cols && y < rows)\n",
        "    {\n",
        "        float blurKernel[9] = { 1.f / 16, 2.f / 16, 1.f / 16, 2.f / 16, 4.f / 16, 2.f / 16, 1.f / 16, 2.f / 16, 1.f / 16 };\n",
        "\n",
        "        int pixelIndex = y * step + x * 3;\n",
        "\n",
        "        float3 blurredPixel = make_float3(0.f, 0.f, 0.f);\n",
        "\n",
        "        for (int i = -1; i <= 1; ++i)\n",
        "        {\n",
        "            for (int j = -1; j <= 1; ++j)\n",
        "            {\n",
        "                int neighborX = min(max(x + j, 0), cols - 1);\n",
        "                int neighborY = min(max(y + i, 0), rows - 1);\n",
        "                int neighborIndex = neighborY * step + neighborX * 3;\n",
        "\n",
        "                blurredPixel.x += inputImage[neighborIndex + 0] * blurKernel[(i + 1) * 3 + (j + 1)];\n",
        "                blurredPixel.y += inputImage[neighborIndex + 1] * blurKernel[(i + 1) * 3 + (j + 1)];\n",
        "                blurredPixel.z += inputImage[neighborIndex + 2] * blurKernel[(i + 1) * 3 + (j + 1)];\n",
        "            }\n",
        "        }\n",
        "\n",
        "        outputImage[pixelIndex + 0] = (uchar)blurredPixel.x;\n",
        "        outputImage[pixelIndex + 1] = (uchar)blurredPixel.y;\n",
        "        outputImage[pixelIndex + 2] = (uchar)blurredPixel.z;\n",
        "    }\n",
        "}\n",
        "\n",
        "int main(int argc, char** argv)\n",
        "{\n",
        "    if (argc != 3)\n",
        "    {\n",
        "        std::cout << \"Usage: ./blurred_background <input_image_path> <output_image_path>\" << std::endl;\n",
        "        return -1;\n",
        "    }\n",
        "\n",
        "    Mat image = imread(argv[1], IMREAD_COLOR);\n",
        "\n",
        "    if (image.empty())\n",
        "    {\n",
        "        std::cout << \"Could not open or find the image\" << std::endl;\n",
        "        return -1;\n",
        "    }\n",
        "\n",
        "    int rows = image.rows;\n",
        "    int cols = image.cols;\n",
        "    int step = image.step;\n",
        "\n",
        "    // Allocate memory on the GPU for the input and output images\n",
        "    uchar* d_inputImage;\n",
        "    uchar* d_outputImage;\n",
        "    cudaMalloc(&d_inputImage, rows * step);\n",
        "    cudaMalloc(&d_outputImage, rows * step);\n",
        "\n",
        "    // Copy the input image to the GPU memory\n",
        "    cudaMemcpy(d_inputImage, image.data, rows * step, cudaMemcpyHostToDevice);\n",
        "\n",
        "    // Define grid and block dimensions for CUDA kernel\n",
        "    dim3 block(16, 16);\n",
        "    dim3 grid((cols + block.x - 1) / block.x, (rows + block.y - 1) / block.y);\n",
        "\n",
        "    // Launch the CUDA kernel to blur the background\n",
        "\n",
        "    struct timeval begin, end;\n",
        "    gettimeofday(&begin, 0);\n",
        "\n",
        "    cudaBlurBackground<<<grid, block>>>(d_inputImage, d_outputImage, rows, cols, step);\n",
        "\n",
        "    gettimeofday(&end, 0);\n",
        "    long seconds = end.tv_sec - begin.tv_sec;\n",
        "    long microseconds = end.tv_usec - begin.tv_usec;\n",
        "    double elapsed = seconds + microseconds*1e-6;\n",
        "\n",
        "    printf(\"Time measured: %.6f seconds.\\n\", elapsed);\n",
        "\n",
        "    // Copy the result back to the host\n",
        "    uchar* blurredImage = new uchar[rows * step];\n",
        "    cudaMemcpy(blurredImage, d_outputImage, rows * step, cudaMemcpyDeviceToHost);\n",
        "\n",
        "    // Free GPU memory\n",
        "    cudaFree(d_inputImage);\n",
        "    cudaFree(d_outputImage);\n",
        "\n",
        "    // Convert the blurred image to Mat format\n",
        "    Mat blurredMat(rows, cols, CV_8UC3, blurredImage);\n",
        "\n",
        "    // Create a smaller version (60% size) of the input image\n",
        "    Mat smallImage;\n",
        "    resize(image, smallImage, Size(), 0.6, 0.6);\n",
        "\n",
        "    // Overlay the smaller image on the blurred background\n",
        "    Mat outputImage = blurredMat.clone();\n",
        "    int x = (blurredMat.cols - smallImage.cols) / 2;\n",
        "    int y = (blurredMat.rows - smallImage.rows) / 2;\n",
        "    Rect roi(x, y, smallImage.cols, smallImage.rows);\n",
        "    smallImage.copyTo(outputImage(roi));\n",
        "\n",
        "    // Save the output image\n",
        "    imwrite(argv[2], outputImage);\n",
        "\n",
        "    delete[] blurredImage;\n",
        "\n",
        "    return 0;\n",
        "}\n"
      ],
      "metadata": {
        "colab": {
          "base_uri": "https://localhost:8080/"
        },
        "id": "3E-V5T1yscL-",
        "outputId": "20a749ca-f5be-475f-e14c-6c640888e63e"
      },
      "execution_count": null,
      "outputs": [
        {
          "output_type": "stream",
          "name": "stdout",
          "text": [
            "Writing sq_blur.cu\n"
          ]
        }
      ]
    },
    {
      "cell_type": "code",
      "source": [
        "!nvcc -o sqblur_cu sq_blur.cu `pkg-config --cflags --libs opencv4`\n",
        "!./sqblur_cu peacock.jpg sq_blur_cu.jpg"
      ],
      "metadata": {
        "colab": {
          "base_uri": "https://localhost:8080/"
        },
        "id": "hiwI_sbescNq",
        "outputId": "4eb34bfa-e22c-4aad-ad2b-6601f6f5e91f"
      },
      "execution_count": null,
      "outputs": [
        {
          "output_type": "stream",
          "name": "stdout",
          "text": [
            "\u001b[01m\u001b[0m\u001b[01m/usr/include/opencv4/opencv2/stitching/detail/warpers.hpp(235)\u001b[0m: \u001b[01;35mwarning\u001b[0m #611-D: overloaded virtual function \u001b[01m\"cv::detail::PlaneWarper::buildMaps\"\u001b[0m is only partially overridden in class \u001b[01m\"cv::detail::AffineWarper\"\u001b[0m\n",
            "  class AffineWarper : public PlaneWarper\n",
            "        ^\n",
            "\n",
            "\u001b[01;36m\u001b[0m\u001b[01;36mRemark\u001b[0m: The warnings can be suppressed with \"-diag-suppress <warning-number>\"\n",
            "\n",
            "\u001b[01m\u001b[0m\u001b[01m/usr/include/opencv4/opencv2/stitching/detail/warpers.hpp(235)\u001b[0m: \u001b[01;35mwarning\u001b[0m #611-D: overloaded virtual function \u001b[01m\"cv::detail::PlaneWarper::warp\"\u001b[0m is only partially overridden in class \u001b[01m\"cv::detail::AffineWarper\"\u001b[0m\n",
            "  class AffineWarper : public PlaneWarper\n",
            "        ^\n",
            "\n",
            "\u001b[01m\u001b[0m\u001b[01m/usr/include/opencv4/opencv2/stitching/detail/blenders.hpp(100)\u001b[0m: \u001b[01;35mwarning\u001b[0m #611-D: overloaded virtual function \u001b[01m\"cv::detail::Blender::prepare\"\u001b[0m is only partially overridden in class \u001b[01m\"cv::detail::FeatherBlender\"\u001b[0m\n",
            "  class FeatherBlender : public Blender\n",
            "        ^\n",
            "\n",
            "\u001b[01m\u001b[0m\u001b[01m/usr/include/opencv4/opencv2/stitching/detail/blenders.hpp(127)\u001b[0m: \u001b[01;35mwarning\u001b[0m #611-D: overloaded virtual function \u001b[01m\"cv::detail::Blender::prepare\"\u001b[0m is only partially overridden in class \u001b[01m\"cv::detail::MultiBandBlender\"\u001b[0m\n",
            "  class MultiBandBlender : public Blender\n",
            "        ^\n",
            "\n",
            "\u001b[01m\u001b[0m\u001b[01m/usr/include/opencv4/opencv2/stitching/detail/warpers.hpp(235)\u001b[0m: \u001b[01;35mwarning\u001b[0m #611-D: overloaded virtual function \u001b[01m\"cv::detail::PlaneWarper::buildMaps\"\u001b[0m is only partially overridden in class \u001b[01m\"cv::detail::AffineWarper\"\u001b[0m\n",
            "  class AffineWarper : public PlaneWarper\n",
            "        ^\n",
            "\n",
            "\u001b[01;36m\u001b[0m\u001b[01;36mRemark\u001b[0m: The warnings can be suppressed with \"-diag-suppress <warning-number>\"\n",
            "\n",
            "\u001b[01m\u001b[0m\u001b[01m/usr/include/opencv4/opencv2/stitching/detail/warpers.hpp(235)\u001b[0m: \u001b[01;35mwarning\u001b[0m #611-D: overloaded virtual function \u001b[01m\"cv::detail::PlaneWarper::warp\"\u001b[0m is only partially overridden in class \u001b[01m\"cv::detail::AffineWarper\"\u001b[0m\n",
            "  class AffineWarper : public PlaneWarper\n",
            "        ^\n",
            "\n",
            "\u001b[01m\u001b[0m\u001b[01m/usr/include/opencv4/opencv2/stitching/detail/blenders.hpp(100)\u001b[0m: \u001b[01;35mwarning\u001b[0m #611-D: overloaded virtual function \u001b[01m\"cv::detail::Blender::prepare\"\u001b[0m is only partially overridden in class \u001b[01m\"cv::detail::FeatherBlender\"\u001b[0m\n",
            "  class FeatherBlender : public Blender\n",
            "        ^\n",
            "\n",
            "\u001b[01m\u001b[0m\u001b[01m/usr/include/opencv4/opencv2/stitching/detail/blenders.hpp(127)\u001b[0m: \u001b[01;35mwarning\u001b[0m #611-D: overloaded virtual function \u001b[01m\"cv::detail::Blender::prepare\"\u001b[0m is only partially overridden in class \u001b[01m\"cv::detail::MultiBandBlender\"\u001b[0m\n",
            "  class MultiBandBlender : public Blender\n",
            "        ^\n",
            "\n",
            "Time measured: 0.046450 seconds.\n"
          ]
        }
      ]
    },
    {
      "cell_type": "markdown",
      "source": [
        "end\n"
      ],
      "metadata": {
        "id": "P7Kg5HP_Jzwz"
      }
    }
  ]
}